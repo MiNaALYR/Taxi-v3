{
 "cells": [
  {
   "cell_type": "markdown",
   "id": "c2041f65",
   "metadata": {},
   "source": [
    "### Import Libraries:"
   ]
  },
  {
   "cell_type": "code",
   "execution_count": 1,
   "id": "453dccab",
   "metadata": {},
   "outputs": [],
   "source": [
    "import numpy as np\n",
    "import random\n",
    "from IPython.display import clear_output\n",
    "import gym\n",
    "\n",
    "import warnings\n",
    "warnings.filterwarnings('ignore')"
   ]
  },
  {
   "cell_type": "markdown",
   "id": "4eb91fcb",
   "metadata": {},
   "source": [
    "### Create environment:"
   ]
  },
  {
   "cell_type": "code",
   "execution_count": 2,
   "id": "c263ec0c",
   "metadata": {},
   "outputs": [
    {
     "name": "stdout",
     "output_type": "stream",
     "text": [
      "+---------+\n",
      "|R: | : :\u001b[34;1mG\u001b[0m|\n",
      "| : | : : |\n",
      "| : : :\u001b[43m \u001b[0m: |\n",
      "| | : | : |\n",
      "|\u001b[35mY\u001b[0m| : |B: |\n",
      "+---------+\n",
      "\n",
      "Number of states: 500\n",
      "Number of actions: 6\n"
     ]
    }
   ],
   "source": [
    "enviroment = gym.make ('Taxi-v3').env\n",
    "enviroment.reset()\n",
    "enviroment.render()\n",
    "\n",
    "print ('Number of states: {}'.format (enviroment.observation_space.n))\n",
    "print ('Number of actions: {}'.format (enviroment.action_space.n))"
   ]
  },
  {
   "cell_type": "markdown",
   "id": "11165e25",
   "metadata": {},
   "source": [
    "### Determine Parameters:"
   ]
  },
  {
   "cell_type": "code",
   "execution_count": 3,
   "id": "6f28df6d",
   "metadata": {},
   "outputs": [],
   "source": [
    "alpha = 0.1\n",
    "gamma = 0.6\n",
    "epsilon = 0.1\n",
    "q_table = np.zeros ([enviroment.observation_space.n, enviroment.action_space.n])"
   ]
  },
  {
   "cell_type": "markdown",
   "id": "f581e35f",
   "metadata": {},
   "source": [
    "## Q Learning Algorithm: "
   ]
  },
  {
   "cell_type": "code",
   "execution_count": 4,
   "id": "37aacece",
   "metadata": {},
   "outputs": [
    {
     "name": "stdout",
     "output_type": "stream",
     "text": [
      "Episode: 100000\n",
      "+---------+\n",
      "|\u001b[35m\u001b[34;1m\u001b[43mR\u001b[0m\u001b[0m\u001b[0m: | : :G|\n",
      "| : | : : |\n",
      "| : : : : |\n",
      "| | : | : |\n",
      "|Y| : |B: |\n",
      "+---------+\n",
      "  (Dropoff)\n",
      "******************************\n",
      "Training is done! \n",
      "\n",
      "******************************\n"
     ]
    }
   ],
   "source": [
    "num_of_episodes = 100000\n",
    "\n",
    "for episode in range (0, num_of_episodes):\n",
    "    state = enviroment.reset()\n",
    "    \n",
    "    reward = 0\n",
    "    terminated = False\n",
    "    \n",
    "    while not terminated:\n",
    "        \n",
    "        if random.uniform (0, 1) < epsilon:\n",
    "            action = enviroment.action_space.sample()\n",
    "        else:\n",
    "            action = np.argmax (q_table[state])\n",
    "        \n",
    "        # Take action\n",
    "        next_state, reward, terminated, info = enviroment.step (action)\n",
    "        \n",
    "        # Recalculate\n",
    "        q_value = q_table [state,action]\n",
    "        max_value = np.max (q_table[next_state])\n",
    "        new_q_value = (1 - alpha) * q_value + alpha * (reward + gamma * max_value)\n",
    "        \n",
    "        # Update Q-table\n",
    "        q_table [state, action] = new_q_value\n",
    "        state = next_state\n",
    "    \n",
    "    # optimization:\n",
    "    if (episode + 1) % 100 == 0:\n",
    "        clear_output (wait = True)\n",
    "        print ('Episode: {}'.format (episode + 1))\n",
    "        enviroment.render()\n",
    "        \n",
    "print ('******************************')\n",
    "print ('Training is done! \\n')\n",
    "print ('******************************')"
   ]
  },
  {
   "cell_type": "code",
   "execution_count": null,
   "id": "d27c20d6",
   "metadata": {},
   "outputs": [],
   "source": []
  }
 ],
 "metadata": {
  "kernelspec": {
   "display_name": "Python 3 (ipykernel)",
   "language": "python",
   "name": "python3"
  },
  "language_info": {
   "codemirror_mode": {
    "name": "ipython",
    "version": 3
   },
   "file_extension": ".py",
   "mimetype": "text/x-python",
   "name": "python",
   "nbconvert_exporter": "python",
   "pygments_lexer": "ipython3",
   "version": "3.9.13"
  }
 },
 "nbformat": 4,
 "nbformat_minor": 5
}
